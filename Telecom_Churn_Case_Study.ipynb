{
 "cells": [
  {
   "cell_type": "code",
   "execution_count": 1,
   "id": "841f6d8a",
   "metadata": {},
   "outputs": [],
   "source": [
    "# import needed libraries\n",
    "import pandas as pd\n",
    "import numpy as np\n",
    "import matplotlib.pyplot as plt\n",
    "import seaborn as sns\n",
    "import re\n",
    "\n",
    "import warnings\n",
    "warnings.filterwarnings('ignore')"
   ]
  },
  {
   "cell_type": "code",
   "execution_count": 2,
   "id": "5ee0608c",
   "metadata": {},
   "outputs": [
    {
     "data": {
      "text/html": [
       "<div>\n",
       "<style scoped>\n",
       "    .dataframe tbody tr th:only-of-type {\n",
       "        vertical-align: middle;\n",
       "    }\n",
       "\n",
       "    .dataframe tbody tr th {\n",
       "        vertical-align: top;\n",
       "    }\n",
       "\n",
       "    .dataframe thead th {\n",
       "        text-align: right;\n",
       "    }\n",
       "</style>\n",
       "<table border=\"1\" class=\"dataframe\">\n",
       "  <thead>\n",
       "    <tr style=\"text-align: right;\">\n",
       "      <th></th>\n",
       "      <th>id</th>\n",
       "      <th>circle_id</th>\n",
       "      <th>loc_og_t2o_mou</th>\n",
       "      <th>std_og_t2o_mou</th>\n",
       "      <th>loc_ic_t2o_mou</th>\n",
       "      <th>last_date_of_month_6</th>\n",
       "      <th>last_date_of_month_7</th>\n",
       "      <th>last_date_of_month_8</th>\n",
       "      <th>arpu_6</th>\n",
       "      <th>arpu_7</th>\n",
       "      <th>...</th>\n",
       "      <th>sachet_3g_7</th>\n",
       "      <th>sachet_3g_8</th>\n",
       "      <th>fb_user_6</th>\n",
       "      <th>fb_user_7</th>\n",
       "      <th>fb_user_8</th>\n",
       "      <th>aon</th>\n",
       "      <th>aug_vbc_3g</th>\n",
       "      <th>jul_vbc_3g</th>\n",
       "      <th>jun_vbc_3g</th>\n",
       "      <th>churn_probability</th>\n",
       "    </tr>\n",
       "  </thead>\n",
       "  <tbody>\n",
       "    <tr>\n",
       "      <th>0</th>\n",
       "      <td>0</td>\n",
       "      <td>109</td>\n",
       "      <td>0.0</td>\n",
       "      <td>0.0</td>\n",
       "      <td>0.0</td>\n",
       "      <td>6/30/2014</td>\n",
       "      <td>7/31/2014</td>\n",
       "      <td>8/31/2014</td>\n",
       "      <td>31.277</td>\n",
       "      <td>87.009</td>\n",
       "      <td>...</td>\n",
       "      <td>0</td>\n",
       "      <td>0</td>\n",
       "      <td>NaN</td>\n",
       "      <td>NaN</td>\n",
       "      <td>NaN</td>\n",
       "      <td>1958</td>\n",
       "      <td>0.0</td>\n",
       "      <td>0.0</td>\n",
       "      <td>0.0</td>\n",
       "      <td>0</td>\n",
       "    </tr>\n",
       "    <tr>\n",
       "      <th>1</th>\n",
       "      <td>1</td>\n",
       "      <td>109</td>\n",
       "      <td>0.0</td>\n",
       "      <td>0.0</td>\n",
       "      <td>0.0</td>\n",
       "      <td>6/30/2014</td>\n",
       "      <td>7/31/2014</td>\n",
       "      <td>8/31/2014</td>\n",
       "      <td>0.000</td>\n",
       "      <td>122.787</td>\n",
       "      <td>...</td>\n",
       "      <td>0</td>\n",
       "      <td>0</td>\n",
       "      <td>NaN</td>\n",
       "      <td>1.0</td>\n",
       "      <td>NaN</td>\n",
       "      <td>710</td>\n",
       "      <td>0.0</td>\n",
       "      <td>0.0</td>\n",
       "      <td>0.0</td>\n",
       "      <td>0</td>\n",
       "    </tr>\n",
       "    <tr>\n",
       "      <th>2</th>\n",
       "      <td>2</td>\n",
       "      <td>109</td>\n",
       "      <td>0.0</td>\n",
       "      <td>0.0</td>\n",
       "      <td>0.0</td>\n",
       "      <td>6/30/2014</td>\n",
       "      <td>7/31/2014</td>\n",
       "      <td>8/31/2014</td>\n",
       "      <td>60.806</td>\n",
       "      <td>103.176</td>\n",
       "      <td>...</td>\n",
       "      <td>0</td>\n",
       "      <td>0</td>\n",
       "      <td>NaN</td>\n",
       "      <td>NaN</td>\n",
       "      <td>NaN</td>\n",
       "      <td>882</td>\n",
       "      <td>0.0</td>\n",
       "      <td>0.0</td>\n",
       "      <td>0.0</td>\n",
       "      <td>0</td>\n",
       "    </tr>\n",
       "    <tr>\n",
       "      <th>3</th>\n",
       "      <td>3</td>\n",
       "      <td>109</td>\n",
       "      <td>0.0</td>\n",
       "      <td>0.0</td>\n",
       "      <td>0.0</td>\n",
       "      <td>6/30/2014</td>\n",
       "      <td>7/31/2014</td>\n",
       "      <td>8/31/2014</td>\n",
       "      <td>156.362</td>\n",
       "      <td>205.260</td>\n",
       "      <td>...</td>\n",
       "      <td>0</td>\n",
       "      <td>0</td>\n",
       "      <td>NaN</td>\n",
       "      <td>NaN</td>\n",
       "      <td>NaN</td>\n",
       "      <td>982</td>\n",
       "      <td>0.0</td>\n",
       "      <td>0.0</td>\n",
       "      <td>0.0</td>\n",
       "      <td>0</td>\n",
       "    </tr>\n",
       "    <tr>\n",
       "      <th>4</th>\n",
       "      <td>4</td>\n",
       "      <td>109</td>\n",
       "      <td>0.0</td>\n",
       "      <td>0.0</td>\n",
       "      <td>0.0</td>\n",
       "      <td>6/30/2014</td>\n",
       "      <td>7/31/2014</td>\n",
       "      <td>8/31/2014</td>\n",
       "      <td>240.708</td>\n",
       "      <td>128.191</td>\n",
       "      <td>...</td>\n",
       "      <td>1</td>\n",
       "      <td>0</td>\n",
       "      <td>1.0</td>\n",
       "      <td>1.0</td>\n",
       "      <td>1.0</td>\n",
       "      <td>647</td>\n",
       "      <td>0.0</td>\n",
       "      <td>0.0</td>\n",
       "      <td>0.0</td>\n",
       "      <td>0</td>\n",
       "    </tr>\n",
       "  </tbody>\n",
       "</table>\n",
       "<p>5 rows × 172 columns</p>\n",
       "</div>"
      ],
      "text/plain": [
       "   id  circle_id  loc_og_t2o_mou  std_og_t2o_mou  loc_ic_t2o_mou  \\\n",
       "0   0        109             0.0             0.0             0.0   \n",
       "1   1        109             0.0             0.0             0.0   \n",
       "2   2        109             0.0             0.0             0.0   \n",
       "3   3        109             0.0             0.0             0.0   \n",
       "4   4        109             0.0             0.0             0.0   \n",
       "\n",
       "  last_date_of_month_6 last_date_of_month_7 last_date_of_month_8   arpu_6  \\\n",
       "0            6/30/2014            7/31/2014            8/31/2014   31.277   \n",
       "1            6/30/2014            7/31/2014            8/31/2014    0.000   \n",
       "2            6/30/2014            7/31/2014            8/31/2014   60.806   \n",
       "3            6/30/2014            7/31/2014            8/31/2014  156.362   \n",
       "4            6/30/2014            7/31/2014            8/31/2014  240.708   \n",
       "\n",
       "    arpu_7  ...  sachet_3g_7  sachet_3g_8  fb_user_6  fb_user_7  fb_user_8  \\\n",
       "0   87.009  ...            0            0        NaN        NaN        NaN   \n",
       "1  122.787  ...            0            0        NaN        1.0        NaN   \n",
       "2  103.176  ...            0            0        NaN        NaN        NaN   \n",
       "3  205.260  ...            0            0        NaN        NaN        NaN   \n",
       "4  128.191  ...            1            0        1.0        1.0        1.0   \n",
       "\n",
       "    aon  aug_vbc_3g  jul_vbc_3g  jun_vbc_3g  churn_probability  \n",
       "0  1958         0.0         0.0         0.0                  0  \n",
       "1   710         0.0         0.0         0.0                  0  \n",
       "2   882         0.0         0.0         0.0                  0  \n",
       "3   982         0.0         0.0         0.0                  0  \n",
       "4   647         0.0         0.0         0.0                  0  \n",
       "\n",
       "[5 rows x 172 columns]"
      ]
     },
     "execution_count": 2,
     "metadata": {},
     "output_type": "execute_result"
    }
   ],
   "source": [
    "#Read the data file\n",
    "telecom = pd.read_csv(\"train.csv\")\n",
    "telecom.head()"
   ]
  },
  {
   "cell_type": "code",
   "execution_count": 3,
   "id": "bf42616f",
   "metadata": {},
   "outputs": [
    {
     "data": {
      "text/plain": [
       "(69999, 172)"
      ]
     },
     "execution_count": 3,
     "metadata": {},
     "output_type": "execute_result"
    }
   ],
   "source": [
    "#Check for data dimension\n",
    "telecom.shape"
   ]
  },
  {
   "cell_type": "code",
   "execution_count": 4,
   "id": "db83629a",
   "metadata": {},
   "outputs": [
    {
     "name": "stdout",
     "output_type": "stream",
     "text": [
      "<class 'pandas.core.frame.DataFrame'>\n",
      "RangeIndex: 69999 entries, 0 to 69998\n",
      "Data columns (total 172 columns):\n",
      " #    Column                    Dtype  \n",
      "---   ------                    -----  \n",
      " 0    id                        int64  \n",
      " 1    circle_id                 int64  \n",
      " 2    loc_og_t2o_mou            float64\n",
      " 3    std_og_t2o_mou            float64\n",
      " 4    loc_ic_t2o_mou            float64\n",
      " 5    last_date_of_month_6      object \n",
      " 6    last_date_of_month_7      object \n",
      " 7    last_date_of_month_8      object \n",
      " 8    arpu_6                    float64\n",
      " 9    arpu_7                    float64\n",
      " 10   arpu_8                    float64\n",
      " 11   onnet_mou_6               float64\n",
      " 12   onnet_mou_7               float64\n",
      " 13   onnet_mou_8               float64\n",
      " 14   offnet_mou_6              float64\n",
      " 15   offnet_mou_7              float64\n",
      " 16   offnet_mou_8              float64\n",
      " 17   roam_ic_mou_6             float64\n",
      " 18   roam_ic_mou_7             float64\n",
      " 19   roam_ic_mou_8             float64\n",
      " 20   roam_og_mou_6             float64\n",
      " 21   roam_og_mou_7             float64\n",
      " 22   roam_og_mou_8             float64\n",
      " 23   loc_og_t2t_mou_6          float64\n",
      " 24   loc_og_t2t_mou_7          float64\n",
      " 25   loc_og_t2t_mou_8          float64\n",
      " 26   loc_og_t2m_mou_6          float64\n",
      " 27   loc_og_t2m_mou_7          float64\n",
      " 28   loc_og_t2m_mou_8          float64\n",
      " 29   loc_og_t2f_mou_6          float64\n",
      " 30   loc_og_t2f_mou_7          float64\n",
      " 31   loc_og_t2f_mou_8          float64\n",
      " 32   loc_og_t2c_mou_6          float64\n",
      " 33   loc_og_t2c_mou_7          float64\n",
      " 34   loc_og_t2c_mou_8          float64\n",
      " 35   loc_og_mou_6              float64\n",
      " 36   loc_og_mou_7              float64\n",
      " 37   loc_og_mou_8              float64\n",
      " 38   std_og_t2t_mou_6          float64\n",
      " 39   std_og_t2t_mou_7          float64\n",
      " 40   std_og_t2t_mou_8          float64\n",
      " 41   std_og_t2m_mou_6          float64\n",
      " 42   std_og_t2m_mou_7          float64\n",
      " 43   std_og_t2m_mou_8          float64\n",
      " 44   std_og_t2f_mou_6          float64\n",
      " 45   std_og_t2f_mou_7          float64\n",
      " 46   std_og_t2f_mou_8          float64\n",
      " 47   std_og_t2c_mou_6          float64\n",
      " 48   std_og_t2c_mou_7          float64\n",
      " 49   std_og_t2c_mou_8          float64\n",
      " 50   std_og_mou_6              float64\n",
      " 51   std_og_mou_7              float64\n",
      " 52   std_og_mou_8              float64\n",
      " 53   isd_og_mou_6              float64\n",
      " 54   isd_og_mou_7              float64\n",
      " 55   isd_og_mou_8              float64\n",
      " 56   spl_og_mou_6              float64\n",
      " 57   spl_og_mou_7              float64\n",
      " 58   spl_og_mou_8              float64\n",
      " 59   og_others_6               float64\n",
      " 60   og_others_7               float64\n",
      " 61   og_others_8               float64\n",
      " 62   total_og_mou_6            float64\n",
      " 63   total_og_mou_7            float64\n",
      " 64   total_og_mou_8            float64\n",
      " 65   loc_ic_t2t_mou_6          float64\n",
      " 66   loc_ic_t2t_mou_7          float64\n",
      " 67   loc_ic_t2t_mou_8          float64\n",
      " 68   loc_ic_t2m_mou_6          float64\n",
      " 69   loc_ic_t2m_mou_7          float64\n",
      " 70   loc_ic_t2m_mou_8          float64\n",
      " 71   loc_ic_t2f_mou_6          float64\n",
      " 72   loc_ic_t2f_mou_7          float64\n",
      " 73   loc_ic_t2f_mou_8          float64\n",
      " 74   loc_ic_mou_6              float64\n",
      " 75   loc_ic_mou_7              float64\n",
      " 76   loc_ic_mou_8              float64\n",
      " 77   std_ic_t2t_mou_6          float64\n",
      " 78   std_ic_t2t_mou_7          float64\n",
      " 79   std_ic_t2t_mou_8          float64\n",
      " 80   std_ic_t2m_mou_6          float64\n",
      " 81   std_ic_t2m_mou_7          float64\n",
      " 82   std_ic_t2m_mou_8          float64\n",
      " 83   std_ic_t2f_mou_6          float64\n",
      " 84   std_ic_t2f_mou_7          float64\n",
      " 85   std_ic_t2f_mou_8          float64\n",
      " 86   std_ic_t2o_mou_6          float64\n",
      " 87   std_ic_t2o_mou_7          float64\n",
      " 88   std_ic_t2o_mou_8          float64\n",
      " 89   std_ic_mou_6              float64\n",
      " 90   std_ic_mou_7              float64\n",
      " 91   std_ic_mou_8              float64\n",
      " 92   total_ic_mou_6            float64\n",
      " 93   total_ic_mou_7            float64\n",
      " 94   total_ic_mou_8            float64\n",
      " 95   spl_ic_mou_6              float64\n",
      " 96   spl_ic_mou_7              float64\n",
      " 97   spl_ic_mou_8              float64\n",
      " 98   isd_ic_mou_6              float64\n",
      " 99   isd_ic_mou_7              float64\n",
      " 100  isd_ic_mou_8              float64\n",
      " 101  ic_others_6               float64\n",
      " 102  ic_others_7               float64\n",
      " 103  ic_others_8               float64\n",
      " 104  total_rech_num_6          int64  \n",
      " 105  total_rech_num_7          int64  \n",
      " 106  total_rech_num_8          int64  \n",
      " 107  total_rech_amt_6          int64  \n",
      " 108  total_rech_amt_7          int64  \n",
      " 109  total_rech_amt_8          int64  \n",
      " 110  max_rech_amt_6            int64  \n",
      " 111  max_rech_amt_7            int64  \n",
      " 112  max_rech_amt_8            int64  \n",
      " 113  date_of_last_rech_6       object \n",
      " 114  date_of_last_rech_7       object \n",
      " 115  date_of_last_rech_8       object \n",
      " 116  last_day_rch_amt_6        int64  \n",
      " 117  last_day_rch_amt_7        int64  \n",
      " 118  last_day_rch_amt_8        int64  \n",
      " 119  date_of_last_rech_data_6  object \n",
      " 120  date_of_last_rech_data_7  object \n",
      " 121  date_of_last_rech_data_8  object \n",
      " 122  total_rech_data_6         float64\n",
      " 123  total_rech_data_7         float64\n",
      " 124  total_rech_data_8         float64\n",
      " 125  max_rech_data_6           float64\n",
      " 126  max_rech_data_7           float64\n",
      " 127  max_rech_data_8           float64\n",
      " 128  count_rech_2g_6           float64\n",
      " 129  count_rech_2g_7           float64\n",
      " 130  count_rech_2g_8           float64\n",
      " 131  count_rech_3g_6           float64\n",
      " 132  count_rech_3g_7           float64\n",
      " 133  count_rech_3g_8           float64\n",
      " 134  av_rech_amt_data_6        float64\n",
      " 135  av_rech_amt_data_7        float64\n",
      " 136  av_rech_amt_data_8        float64\n",
      " 137  vol_2g_mb_6               float64\n",
      " 138  vol_2g_mb_7               float64\n",
      " 139  vol_2g_mb_8               float64\n",
      " 140  vol_3g_mb_6               float64\n",
      " 141  vol_3g_mb_7               float64\n",
      " 142  vol_3g_mb_8               float64\n",
      " 143  arpu_3g_6                 float64\n",
      " 144  arpu_3g_7                 float64\n",
      " 145  arpu_3g_8                 float64\n",
      " 146  arpu_2g_6                 float64\n",
      " 147  arpu_2g_7                 float64\n",
      " 148  arpu_2g_8                 float64\n",
      " 149  night_pck_user_6          float64\n",
      " 150  night_pck_user_7          float64\n",
      " 151  night_pck_user_8          float64\n",
      " 152  monthly_2g_6              int64  \n",
      " 153  monthly_2g_7              int64  \n",
      " 154  monthly_2g_8              int64  \n",
      " 155  sachet_2g_6               int64  \n",
      " 156  sachet_2g_7               int64  \n",
      " 157  sachet_2g_8               int64  \n",
      " 158  monthly_3g_6              int64  \n",
      " 159  monthly_3g_7              int64  \n",
      " 160  monthly_3g_8              int64  \n",
      " 161  sachet_3g_6               int64  \n",
      " 162  sachet_3g_7               int64  \n",
      " 163  sachet_3g_8               int64  \n",
      " 164  fb_user_6                 float64\n",
      " 165  fb_user_7                 float64\n",
      " 166  fb_user_8                 float64\n",
      " 167  aon                       int64  \n",
      " 168  aug_vbc_3g                float64\n",
      " 169  jul_vbc_3g                float64\n",
      " 170  jun_vbc_3g                float64\n",
      " 171  churn_probability         int64  \n",
      "dtypes: float64(135), int64(28), object(9)\n",
      "memory usage: 91.9+ MB\n"
     ]
    }
   ],
   "source": [
    "telecom.info(verbose=1)"
   ]
  },
  {
   "cell_type": "markdown",
   "id": "9499db73",
   "metadata": {},
   "source": [
    "Original data file consists of 69999 rows and 172 columns. As per the results there are both numerical and categorical columns"
   ]
  },
  {
   "cell_type": "markdown",
   "id": "1849eb15",
   "metadata": {},
   "source": [
    "## Handling missing values"
   ]
  },
  {
   "cell_type": "code",
   "execution_count": 5,
   "id": "f5af498e",
   "metadata": {},
   "outputs": [
    {
     "data": {
      "text/plain": [
       "onnet_mou_8                  5.290076\n",
       "offnet_mou_8                 5.290076\n",
       "roam_ic_mou_8                5.290076\n",
       "roam_og_mou_8                5.290076\n",
       "loc_og_t2t_mou_8             5.290076\n",
       "loc_og_t2m_mou_8             5.290076\n",
       "loc_og_t2f_mou_8             5.290076\n",
       "loc_og_t2c_mou_8             5.290076\n",
       "loc_og_mou_8                 5.290076\n",
       "std_og_t2t_mou_8             5.290076\n",
       "std_og_t2m_mou_8             5.290076\n",
       "std_og_t2f_mou_8             5.290076\n",
       "std_og_t2c_mou_8             5.290076\n",
       "std_og_mou_8                 5.290076\n",
       "isd_og_mou_8                 5.290076\n",
       "spl_og_mou_8                 5.290076\n",
       "og_others_8                  5.290076\n",
       "loc_ic_t2t_mou_8             5.290076\n",
       "loc_ic_t2m_mou_8             5.290076\n",
       "loc_ic_t2f_mou_8             5.290076\n",
       "loc_ic_mou_8                 5.290076\n",
       "std_ic_t2t_mou_8             5.290076\n",
       "std_ic_t2m_mou_8             5.290076\n",
       "std_ic_t2f_mou_8             5.290076\n",
       "std_ic_t2o_mou_8             5.290076\n",
       "std_ic_mou_8                 5.290076\n",
       "spl_ic_mou_8                 5.290076\n",
       "isd_ic_mou_8                 5.290076\n",
       "ic_others_8                  5.290076\n",
       "date_of_last_rech_data_6    74.902499\n",
       "date_of_last_rech_data_7    74.478207\n",
       "date_of_last_rech_data_8    73.689624\n",
       "total_rech_data_6           74.902499\n",
       "total_rech_data_7           74.478207\n",
       "total_rech_data_8           73.689624\n",
       "max_rech_data_6             74.902499\n",
       "max_rech_data_7             74.478207\n",
       "max_rech_data_8             73.689624\n",
       "count_rech_2g_6             74.902499\n",
       "count_rech_2g_7             74.478207\n",
       "count_rech_2g_8             73.689624\n",
       "count_rech_3g_6             74.902499\n",
       "count_rech_3g_7             74.478207\n",
       "count_rech_3g_8             73.689624\n",
       "av_rech_amt_data_6          74.902499\n",
       "av_rech_amt_data_7          74.478207\n",
       "av_rech_amt_data_8          73.689624\n",
       "arpu_3g_6                   74.902499\n",
       "arpu_3g_7                   74.478207\n",
       "arpu_3g_8                   73.689624\n",
       "arpu_2g_6                   74.902499\n",
       "arpu_2g_7                   74.478207\n",
       "arpu_2g_8                   73.689624\n",
       "night_pck_user_6            74.902499\n",
       "night_pck_user_7            74.478207\n",
       "night_pck_user_8            73.689624\n",
       "fb_user_6                   74.902499\n",
       "fb_user_7                   74.478207\n",
       "fb_user_8                   73.689624\n",
       "dtype: float64"
      ]
     },
     "execution_count": 5,
     "metadata": {},
     "output_type": "execute_result"
    }
   ],
   "source": [
    "#Checking for further missing values per column\n",
    "null_value_series = telecom.isnull().sum()/len(telecom.index)*100\n",
    "\n",
    "#Listing columns having more than 5% missing values\n",
    "null_value_series = null_value_series[null_value_series > 5]\n",
    "null_value_series"
   ]
  },
  {
   "cell_type": "markdown",
   "id": "c0441185",
   "metadata": {},
   "source": [
    "#### There are many columns having > 70 % missing values but zero columns are having missing values"
   ]
  },
  {
   "cell_type": "markdown",
   "id": "4fecb2fb",
   "metadata": {},
   "source": [
    "### In context of business its important to keep values for rechange columns and hence imputing zero for all rechange columns"
   ]
  },
  {
   "cell_type": "code",
   "execution_count": 6,
   "id": "b4a041a2",
   "metadata": {},
   "outputs": [],
   "source": [
    "recharge_columns = ['total_rech_data_6', 'total_rech_data_7', 'total_rech_data_8',\n",
    "                 'max_rech_data_6', 'max_rech_data_7', 'max_rech_data_8',\n",
    "                 'av_rech_amt_data_6', 'av_rech_amt_data_7', 'av_rech_amt_data_8'\n",
    "                 ]"
   ]
  },
  {
   "cell_type": "code",
   "execution_count": 7,
   "id": "2b2ffbe0",
   "metadata": {},
   "outputs": [],
   "source": [
    "# impute missing values with 0\n",
    "telecom[recharge_columns] = telecom[recharge_columns].apply(lambda x: x.fillna(0))"
   ]
  },
  {
   "cell_type": "code",
   "execution_count": 8,
   "id": "4d9bb08e",
   "metadata": {},
   "outputs": [
    {
     "name": "stdout",
     "output_type": "stream",
     "text": [
      "Missing value ratio:\n",
      "\n",
      "total_rech_data_6     0.0\n",
      "total_rech_data_7     0.0\n",
      "total_rech_data_8     0.0\n",
      "max_rech_data_6       0.0\n",
      "max_rech_data_7       0.0\n",
      "max_rech_data_8       0.0\n",
      "av_rech_amt_data_6    0.0\n",
      "av_rech_amt_data_7    0.0\n",
      "av_rech_amt_data_8    0.0\n",
      "dtype: float64\n",
      "\n",
      "\n",
      "Summary statistics\n",
      "\n",
      "       total_rech_data_6  total_rech_data_7  total_rech_data_8  \\\n",
      "count       69999.000000       69999.000000       69999.000000   \n",
      "mean            0.619309           0.683981           0.697867   \n",
      "std             1.762010           1.943193           1.973434   \n",
      "min             0.000000           0.000000           0.000000   \n",
      "25%             0.000000           0.000000           0.000000   \n",
      "50%             0.000000           0.000000           0.000000   \n",
      "75%             1.000000           1.000000           1.000000   \n",
      "max            61.000000          54.000000          60.000000   \n",
      "\n",
      "       max_rech_data_6  max_rech_data_7  max_rech_data_8  av_rech_amt_data_6  \\\n",
      "count     69999.000000     69999.000000     69999.000000        69999.000000   \n",
      "mean         31.748339        32.260075        32.986614           48.395787   \n",
      "std          77.519536        78.069163        78.808337          126.923180   \n",
      "min           0.000000         0.000000         0.000000            0.000000   \n",
      "25%           0.000000         0.000000         0.000000            0.000000   \n",
      "50%           0.000000         0.000000         0.000000            0.000000   \n",
      "75%           8.000000        14.000000        17.000000            8.000000   \n",
      "max        1555.000000      1555.000000      1555.000000         5920.000000   \n",
      "\n",
      "       av_rech_amt_data_7  av_rech_amt_data_8  \n",
      "count        69999.000000        69999.000000  \n",
      "mean            51.415168           51.782975  \n",
      "std            133.246541          131.291162  \n",
      "min              0.000000            0.000000  \n",
      "25%              0.000000            0.000000  \n",
      "50%              0.000000            0.000000  \n",
      "75%             17.000000           23.000000  \n",
      "max           4365.000000         4076.000000  \n"
     ]
    }
   ],
   "source": [
    "# now, let's make sure values are imputed correctly\n",
    "print(\"Missing value ratio:\\n\")\n",
    "print(telecom[recharge_columns].isnull().sum()*100/telecom.shape[1])\n",
    "\n",
    "# summary\n",
    "print(\"\\n\\nSummary statistics\\n\")\n",
    "print(telecom[recharge_columns].describe(include='all'))"
   ]
  },
  {
   "cell_type": "markdown",
   "id": "ea9a2d15",
   "metadata": {},
   "source": [
    "### Checking for columns having single value across all rows"
   ]
  },
  {
   "cell_type": "code",
   "execution_count": 9,
   "id": "605b56f0",
   "metadata": {},
   "outputs": [
    {
     "data": {
      "text/plain": [
       "std_ic_t2o_mou_6         1\n",
       "circle_id                1\n",
       "loc_og_t2o_mou           1\n",
       "std_og_t2o_mou           1\n",
       "loc_ic_t2o_mou           1\n",
       "last_date_of_month_6     1\n",
       "last_date_of_month_7     1\n",
       "last_date_of_month_8     1\n",
       "std_ic_t2o_mou_8         1\n",
       "std_og_t2c_mou_8         1\n",
       "std_og_t2c_mou_7         1\n",
       "std_og_t2c_mou_6         1\n",
       "std_ic_t2o_mou_7         1\n",
       "night_pck_user_6         2\n",
       "night_pck_user_7         2\n",
       "night_pck_user_8         2\n",
       "churn_probability        2\n",
       "fb_user_7                2\n",
       "fb_user_8                2\n",
       "fb_user_6                2\n",
       "monthly_2g_6             5\n",
       "monthly_2g_8             6\n",
       "monthly_2g_7             6\n",
       "monthly_3g_6            10\n",
       "monthly_3g_8            12\n",
       "dtype: int64"
      ]
     },
     "execution_count": 9,
     "metadata": {},
     "output_type": "execute_result"
    }
   ],
   "source": [
    "#Checking for columns having majority of single values for the dataset and percentage of single value in each column\n",
    "telecom.nunique().sort_values().head(25)"
   ]
  },
  {
   "cell_type": "markdown",
   "id": "0f36d5c9",
   "metadata": {},
   "source": [
    "#### Many columns are having single values present for all the rows and hence dropping these columns as these columns won't be helpful in determining Chrun probability"
   ]
  },
  {
   "cell_type": "code",
   "execution_count": 10,
   "id": "e8e539a2",
   "metadata": {},
   "outputs": [
    {
     "data": {
      "text/plain": [
       "['std_ic_t2o_mou_6',\n",
       " 'circle_id',\n",
       " 'loc_og_t2o_mou',\n",
       " 'std_og_t2o_mou',\n",
       " 'loc_ic_t2o_mou',\n",
       " 'last_date_of_month_6',\n",
       " 'last_date_of_month_7',\n",
       " 'last_date_of_month_8',\n",
       " 'std_ic_t2o_mou_8',\n",
       " 'std_og_t2c_mou_8',\n",
       " 'std_og_t2c_mou_7',\n",
       " 'std_og_t2c_mou_6',\n",
       " 'std_ic_t2o_mou_7']"
      ]
     },
     "execution_count": 10,
     "metadata": {},
     "output_type": "execute_result"
    }
   ],
   "source": [
    "#Create Data frame for Features and value counts\n",
    "telecom_count_df = pd.DataFrame(telecom.nunique().sort_values()).reset_index()\n",
    "telecom_count_df.columns = ['Features','Value_count']\n",
    "\n",
    "#Get name of columns having Value_count = 1\n",
    "single_value_col = telecom_count_df[telecom_count_df['Value_count'] == 1]['Features'].tolist()\n",
    "single_value_col"
   ]
  },
  {
   "cell_type": "code",
   "execution_count": 11,
   "id": "4d776c67",
   "metadata": {},
   "outputs": [
    {
     "name": "stdout",
     "output_type": "stream",
     "text": [
      "Shape before dropping single value columns :  (69999, 172)\n",
      "Shape after dropping single value columns :  (69999, 159)\n"
     ]
    }
   ],
   "source": [
    "print(\"Shape before dropping single value columns : \", telecom.shape)\n",
    "#Delete single value columns\n",
    "telecom = telecom.drop(single_value_col,axis=1)\n",
    "print(\"Shape after dropping single value columns : \", telecom.shape)"
   ]
  },
  {
   "cell_type": "markdown",
   "id": "3e86e42d",
   "metadata": {},
   "source": [
    "### Check the distribution of values for columns having 2 unique values"
   ]
  },
  {
   "cell_type": "code",
   "execution_count": 12,
   "id": "85cb63a0",
   "metadata": {},
   "outputs": [
    {
     "data": {
      "text/plain": [
       "0.0    97.472678\n",
       "1.0     2.527322\n",
       "Name: night_pck_user_6, dtype: float64"
      ]
     },
     "execution_count": 12,
     "metadata": {},
     "output_type": "execute_result"
    }
   ],
   "source": [
    "telecom.night_pck_user_6.value_counts(normalize=True)*100\n"
   ]
  },
  {
   "cell_type": "code",
   "execution_count": 13,
   "id": "03567b98",
   "metadata": {},
   "outputs": [
    {
     "data": {
      "text/plain": [
       "0.0    97.593059\n",
       "1.0     2.406941\n",
       "Name: night_pck_user_7, dtype: float64"
      ]
     },
     "execution_count": 13,
     "metadata": {},
     "output_type": "execute_result"
    }
   ],
   "source": [
    "telecom.night_pck_user_7.value_counts(normalize=True)*100"
   ]
  },
  {
   "cell_type": "code",
   "execution_count": 14,
   "id": "8513c7ac",
   "metadata": {},
   "outputs": [
    {
     "data": {
      "text/plain": [
       "0.0    97.898681\n",
       "1.0     2.101319\n",
       "Name: night_pck_user_8, dtype: float64"
      ]
     },
     "execution_count": 14,
     "metadata": {},
     "output_type": "execute_result"
    }
   ],
   "source": [
    "telecom.night_pck_user_8.value_counts(normalize=True)*100"
   ]
  },
  {
   "cell_type": "code",
   "execution_count": 15,
   "id": "e0854a73",
   "metadata": {},
   "outputs": [
    {
     "data": {
      "text/plain": [
       "1.0    91.632514\n",
       "0.0     8.367486\n",
       "Name: fb_user_6, dtype: float64"
      ]
     },
     "execution_count": 15,
     "metadata": {},
     "output_type": "execute_result"
    }
   ],
   "source": [
    "telecom.fb_user_6.value_counts(normalize=True)*100"
   ]
  },
  {
   "cell_type": "code",
   "execution_count": 16,
   "id": "aad5061b",
   "metadata": {},
   "outputs": [
    {
     "data": {
      "text/plain": [
       "1.0    90.95438\n",
       "0.0     9.04562\n",
       "Name: fb_user_7, dtype: float64"
      ]
     },
     "execution_count": 16,
     "metadata": {},
     "output_type": "execute_result"
    }
   ],
   "source": [
    "telecom.fb_user_7.value_counts(normalize=True)*100"
   ]
  },
  {
   "cell_type": "code",
   "execution_count": 17,
   "id": "f07e158f",
   "metadata": {},
   "outputs": [
    {
     "data": {
      "text/plain": [
       "1.0    89.031873\n",
       "0.0    10.968127\n",
       "Name: fb_user_8, dtype: float64"
      ]
     },
     "execution_count": 17,
     "metadata": {},
     "output_type": "execute_result"
    }
   ],
   "source": [
    "telecom.fb_user_8.value_counts(normalize=True)*100"
   ]
  },
  {
   "cell_type": "markdown",
   "id": "df8dbccc",
   "metadata": {},
   "source": [
    "### Dropping columns having more than 93% of single values\n"
   ]
  },
  {
   "cell_type": "code",
   "execution_count": 18,
   "id": "a1ecd216",
   "metadata": {},
   "outputs": [
    {
     "name": "stdout",
     "output_type": "stream",
     "text": [
      "Shape before dropping 93% single value columns :  (69999, 159)\n",
      "Shape after dropping 93% single value columns :  (69999, 156)\n"
     ]
    }
   ],
   "source": [
    "print(\"Shape before dropping 93% single value columns : \", telecom.shape)\n",
    "telecom = telecom.drop(['night_pck_user_6','night_pck_user_7','night_pck_user_8'],axis=1)\n",
    "print(\"Shape after dropping 93% single value columns : \", telecom.shape)"
   ]
  },
  {
   "cell_type": "markdown",
   "id": "7ecd830c",
   "metadata": {},
   "source": [
    "### Computing categorical and numeric columns"
   ]
  },
  {
   "cell_type": "code",
   "execution_count": 19,
   "id": "275f6e92",
   "metadata": {},
   "outputs": [
    {
     "name": "stdout",
     "output_type": "stream",
     "text": [
      "['id', 'arpu_6', 'arpu_7', 'arpu_8', 'onnet_mou_6', 'onnet_mou_7', 'onnet_mou_8', 'offnet_mou_6', 'offnet_mou_7', 'offnet_mou_8', 'roam_ic_mou_6', 'roam_ic_mou_7', 'roam_ic_mou_8', 'roam_og_mou_6', 'roam_og_mou_7', 'roam_og_mou_8', 'loc_og_t2t_mou_6', 'loc_og_t2t_mou_7', 'loc_og_t2t_mou_8', 'loc_og_t2m_mou_6', 'loc_og_t2m_mou_7', 'loc_og_t2m_mou_8', 'loc_og_t2f_mou_6', 'loc_og_t2f_mou_7', 'loc_og_t2f_mou_8', 'loc_og_t2c_mou_6', 'loc_og_t2c_mou_7', 'loc_og_t2c_mou_8', 'loc_og_mou_6', 'loc_og_mou_7', 'loc_og_mou_8', 'std_og_t2t_mou_6', 'std_og_t2t_mou_7', 'std_og_t2t_mou_8', 'std_og_t2m_mou_6', 'std_og_t2m_mou_7', 'std_og_t2m_mou_8', 'std_og_t2f_mou_6', 'std_og_t2f_mou_7', 'std_og_t2f_mou_8', 'std_og_mou_6', 'std_og_mou_7', 'std_og_mou_8', 'isd_og_mou_6', 'isd_og_mou_7', 'isd_og_mou_8', 'spl_og_mou_6', 'spl_og_mou_7', 'spl_og_mou_8', 'og_others_6', 'og_others_7', 'og_others_8', 'total_og_mou_6', 'total_og_mou_7', 'total_og_mou_8', 'loc_ic_t2t_mou_6', 'loc_ic_t2t_mou_7', 'loc_ic_t2t_mou_8', 'loc_ic_t2m_mou_6', 'loc_ic_t2m_mou_7', 'loc_ic_t2m_mou_8', 'loc_ic_t2f_mou_6', 'loc_ic_t2f_mou_7', 'loc_ic_t2f_mou_8', 'loc_ic_mou_6', 'loc_ic_mou_7', 'loc_ic_mou_8', 'std_ic_t2t_mou_6', 'std_ic_t2t_mou_7', 'std_ic_t2t_mou_8', 'std_ic_t2m_mou_6', 'std_ic_t2m_mou_7', 'std_ic_t2m_mou_8', 'std_ic_t2f_mou_6', 'std_ic_t2f_mou_7', 'std_ic_t2f_mou_8', 'std_ic_mou_6', 'std_ic_mou_7', 'std_ic_mou_8', 'total_ic_mou_6', 'total_ic_mou_7', 'total_ic_mou_8', 'spl_ic_mou_6', 'spl_ic_mou_7', 'spl_ic_mou_8', 'isd_ic_mou_6', 'isd_ic_mou_7', 'isd_ic_mou_8', 'ic_others_6', 'ic_others_7', 'ic_others_8', 'total_rech_num_6', 'total_rech_num_7', 'total_rech_num_8', 'total_rech_amt_6', 'total_rech_amt_7', 'total_rech_amt_8', 'max_rech_amt_6', 'max_rech_amt_7', 'max_rech_amt_8', 'last_day_rch_amt_6', 'last_day_rch_amt_7', 'last_day_rch_amt_8', 'total_rech_data_6', 'total_rech_data_7', 'total_rech_data_8', 'max_rech_data_6', 'max_rech_data_7', 'max_rech_data_8', 'count_rech_2g_6', 'count_rech_2g_7', 'count_rech_2g_8', 'count_rech_3g_6', 'count_rech_3g_7', 'count_rech_3g_8', 'av_rech_amt_data_6', 'av_rech_amt_data_7', 'av_rech_amt_data_8', 'vol_2g_mb_6', 'vol_2g_mb_7', 'vol_2g_mb_8', 'vol_3g_mb_6', 'vol_3g_mb_7', 'vol_3g_mb_8', 'arpu_3g_6', 'arpu_3g_7', 'arpu_3g_8', 'arpu_2g_6', 'arpu_2g_7', 'arpu_2g_8', 'monthly_2g_6', 'monthly_2g_7', 'monthly_2g_8', 'sachet_2g_6', 'sachet_2g_7', 'sachet_2g_8', 'monthly_3g_6', 'monthly_3g_7', 'monthly_3g_8', 'sachet_3g_6', 'sachet_3g_7', 'sachet_3g_8', 'fb_user_6', 'fb_user_7', 'fb_user_8', 'aon', 'aug_vbc_3g', 'jul_vbc_3g', 'jun_vbc_3g', 'churn_probability']\n"
     ]
    }
   ],
   "source": [
    "#Numeric\n",
    "numeric_col = list(telecom.dtypes[telecom.dtypes != 'object'].index)\n",
    "print((numeric_col))"
   ]
  },
  {
   "cell_type": "code",
   "execution_count": 20,
   "id": "20b1c184",
   "metadata": {},
   "outputs": [
    {
     "name": "stdout",
     "output_type": "stream",
     "text": [
      "['date_of_last_rech_6', 'date_of_last_rech_7', 'date_of_last_rech_8', 'date_of_last_rech_data_6', 'date_of_last_rech_data_7', 'date_of_last_rech_data_8']\n"
     ]
    }
   ],
   "source": [
    "cat_col = list(telecom.dtypes[telecom.dtypes == 'object'].index)\n",
    "print((cat_col))"
   ]
  },
  {
   "cell_type": "code",
   "execution_count": 21,
   "id": "0b2481b2",
   "metadata": {},
   "outputs": [
    {
     "name": "stdout",
     "output_type": "stream",
     "text": [
      "Shape after dropping ID and date columns  (69999, 149)\n"
     ]
    }
   ],
   "source": [
    "#From above data ID column from numeric type and Date columns from categorical types can be dropped\n",
    "telecom = telecom.drop(cat_col,axis=1)\n",
    "telecom = telecom.drop(['id'],axis=1)\n",
    "print(\"Shape after dropping ID and date columns \", telecom.shape)\n"
   ]
  },
  {
   "cell_type": "markdown",
   "id": "f3134e91",
   "metadata": {},
   "source": [
    "### Drop variables with more than a given threshold of missing values"
   ]
  },
  {
   "cell_type": "code",
   "execution_count": 22,
   "id": "ed123503",
   "metadata": {},
   "outputs": [],
   "source": [
    "# Below code gives percentage of null in every column\n",
    "null_percentage = telecom.isnull().sum()/telecom.shape[0]*100\n",
    "\n",
    "# Below code gives list of columns having more than 60% null\n",
    "col_to_drop = null_percentage[null_percentage>70].keys()\n",
    "\n",
    "intial_cols = telecom.shape[1]\n",
    "telecom = telecom.drop(col_to_drop, axis=1)"
   ]
  },
  {
   "cell_type": "code",
   "execution_count": 23,
   "id": "94b875f2",
   "metadata": {},
   "outputs": [
    {
     "name": "stdout",
     "output_type": "stream",
     "text": [
      "Columns dropped due to 70% missing values \n",
      "\n",
      "count_rech_2g_6\n",
      "count_rech_2g_7\n",
      "count_rech_2g_8\n",
      "count_rech_3g_6\n",
      "count_rech_3g_7\n",
      "count_rech_3g_8\n",
      "arpu_3g_6\n",
      "arpu_3g_7\n",
      "arpu_3g_8\n",
      "arpu_2g_6\n",
      "arpu_2g_7\n",
      "arpu_2g_8\n",
      "fb_user_6\n",
      "fb_user_7\n",
      "fb_user_8\n",
      "\n",
      "15 columns dropped.\n"
     ]
    }
   ],
   "source": [
    "print(\"Columns dropped due to 70% missing values \\n\")\n",
    "print(\"\\n\".join(col_to_drop.to_list()))\n",
    "print(\"\\n{0} columns dropped.\".format(intial_cols-telecom.shape[1]))"
   ]
  },
  {
   "cell_type": "markdown",
   "id": "fef579a1",
   "metadata": {},
   "source": [
    "### Impute with mice for other missing values"
   ]
  },
  {
   "cell_type": "code",
   "execution_count": null,
   "id": "f66df572",
   "metadata": {},
   "outputs": [],
   "source": [
    "# using MICE technique to impute missing values in the rest of the columns\n",
    "from fancyimpute import IterativeImputer as MICE\n",
    "churn_imputed = MICE().fit_transform(telecom)"
   ]
  },
  {
   "cell_type": "code",
   "execution_count": null,
   "id": "d8cd32a5",
   "metadata": {},
   "outputs": [],
   "source": []
  },
  {
   "cell_type": "code",
   "execution_count": null,
   "id": "409a34f3",
   "metadata": {},
   "outputs": [],
   "source": []
  },
  {
   "cell_type": "code",
   "execution_count": null,
   "id": "3f5c257f",
   "metadata": {},
   "outputs": [],
   "source": []
  },
  {
   "cell_type": "code",
   "execution_count": null,
   "id": "15aff5be",
   "metadata": {},
   "outputs": [],
   "source": []
  },
  {
   "cell_type": "code",
   "execution_count": null,
   "id": "8b757087",
   "metadata": {},
   "outputs": [],
   "source": []
  },
  {
   "cell_type": "code",
   "execution_count": null,
   "id": "89d3ddea",
   "metadata": {},
   "outputs": [],
   "source": []
  },
  {
   "cell_type": "code",
   "execution_count": null,
   "id": "945ee6cd",
   "metadata": {},
   "outputs": [],
   "source": []
  },
  {
   "cell_type": "code",
   "execution_count": null,
   "id": "f195b984",
   "metadata": {},
   "outputs": [],
   "source": []
  },
  {
   "cell_type": "code",
   "execution_count": null,
   "id": "8910b6a7",
   "metadata": {},
   "outputs": [],
   "source": []
  },
  {
   "cell_type": "code",
   "execution_count": null,
   "id": "bfbe863d",
   "metadata": {},
   "outputs": [],
   "source": []
  },
  {
   "cell_type": "code",
   "execution_count": null,
   "id": "45f7d5b9",
   "metadata": {},
   "outputs": [],
   "source": []
  },
  {
   "cell_type": "code",
   "execution_count": null,
   "id": "ad36eb24",
   "metadata": {},
   "outputs": [],
   "source": []
  },
  {
   "cell_type": "code",
   "execution_count": null,
   "id": "84bd1766",
   "metadata": {},
   "outputs": [],
   "source": []
  },
  {
   "cell_type": "code",
   "execution_count": null,
   "id": "207193ec",
   "metadata": {},
   "outputs": [],
   "source": []
  },
  {
   "cell_type": "code",
   "execution_count": null,
   "id": "41eff5b3",
   "metadata": {},
   "outputs": [],
   "source": []
  },
  {
   "cell_type": "code",
   "execution_count": null,
   "id": "bcead535",
   "metadata": {},
   "outputs": [],
   "source": []
  },
  {
   "cell_type": "code",
   "execution_count": null,
   "id": "f95e8d7f",
   "metadata": {},
   "outputs": [],
   "source": []
  },
  {
   "cell_type": "markdown",
   "id": "64ab460a",
   "metadata": {},
   "source": [
    "### By looking at data , information is spread across 3 months - June,July and August. Hence creating new DF for months"
   ]
  },
  {
   "cell_type": "code",
   "execution_count": null,
   "id": "ad58b56c",
   "metadata": {},
   "outputs": [],
   "source": []
  },
  {
   "cell_type": "code",
   "execution_count": null,
   "id": "b372070c",
   "metadata": {},
   "outputs": [],
   "source": [
    "def df_info(data) : \n",
    "    return pd.DataFrame({\n",
    "                'Datatype' : data.dtypes.astype(str), \n",
    "                'Non_Null_Count': data.count(axis = 0).astype(int), \n",
    "                'Null_Count': data.isnull().sum().astype(int), \n",
    "                'Null_Percentage': round(data.isnull().sum()/len(data) * 100 , 2), \n",
    "                'Unique_Values_Count': data.nunique().astype(int) \n",
    "                 }).sort_values(by='Null_Percentage', ascending=False)"
   ]
  },
  {
   "cell_type": "code",
   "execution_count": null,
   "id": "86200e36",
   "metadata": {},
   "outputs": [],
   "source": [
    "#June month\n",
    "june_columns = []\n",
    "for column in telecom.columns:\n",
    "    x = re.search(\"6$\", column)\n",
    "    if x:\n",
    "        june_columns.append(column)\n",
    "# missing_values.loc[sixth_month_columns].sort_values(by='Null_Percentage', ascending=False)\n",
    "june_info = df_info(telecom)\n",
    "condition = june_info.index.isin(june_columns)\n",
    "june_columns = june_info[condition]\n",
    "june_columns"
   ]
  },
  {
   "cell_type": "code",
   "execution_count": null,
   "id": "6a333efb",
   "metadata": {},
   "outputs": [],
   "source": [
    "#July month\n",
    "july_columns = []\n",
    "for column in telecom.columns:\n",
    "    x = re.search(\"7$\", column)\n",
    "    if x:\n",
    "        july_columns.append(column)\n",
    "# missing_values.loc[sixth_month_columns].sort_values(by='Null_Percentage', ascending=False)\n",
    "july_info = df_info(telecom)\n",
    "condition = june_info.index.isin(july_columns)\n",
    "july_columns = july_info[condition]\n",
    "july_columns"
   ]
  },
  {
   "cell_type": "code",
   "execution_count": null,
   "id": "30282576",
   "metadata": {},
   "outputs": [],
   "source": [
    "#August month\n",
    "aug_columns = []\n",
    "for column in telecom.columns:\n",
    "    x = re.search(\"8$\", column)\n",
    "    if x:\n",
    "        aug_columns.append(column)\n",
    "# missing_values.loc[sixth_month_columns].sort_values(by='Null_Percentage', ascending=False)\n",
    "aug_info = df_info(telecom)\n",
    "condition = aug_info.index.isin(aug_columns)\n",
    "aug_columns = july_info[condition]\n",
    "aug_columns"
   ]
  },
  {
   "cell_type": "code",
   "execution_count": null,
   "id": "edec7fcd",
   "metadata": {},
   "outputs": [],
   "source": []
  }
 ],
 "metadata": {
  "kernelspec": {
   "display_name": "Python 3 (ipykernel)",
   "language": "python",
   "name": "python3"
  },
  "language_info": {
   "codemirror_mode": {
    "name": "ipython",
    "version": 3
   },
   "file_extension": ".py",
   "mimetype": "text/x-python",
   "name": "python",
   "nbconvert_exporter": "python",
   "pygments_lexer": "ipython3",
   "version": "3.9.13"
  }
 },
 "nbformat": 4,
 "nbformat_minor": 5
}
